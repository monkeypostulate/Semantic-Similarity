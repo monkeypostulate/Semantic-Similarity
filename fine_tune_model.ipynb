{
 "cells": [
  {
   "cell_type": "markdown",
   "source": [
    "<h1 style = \"text-align:center\">\n",
    " Semantic Similarity using Sentence Transformer\n",
    "</h1>\n",
    "<p>\n",
    "<b>Problem:</b>\n",
    " </p>\n",
    " <p>Predict if two sentences are similar.\n",
    "</p>\n",
    "\n",
    "<p>\n",
    "<b>\n",
    "Data\n",
    "</b>\n",
    "</p>\n",
    "\n",
    "<p>\n",
    "This dataset consists of 3048 similar and dissimilar medical question pairs hand-generated and labeled by Curai's doctors. Doctors with a list of 1524 patient-asked questions randomly sampled from the publicly available crawl of HealthTap\n",
    "</p>\n",
    "\n",
    "<p>\n",
    "<b>\n",
    "Solution:\n",
    "</b>\n",
    "</p>\n",
    "<p>\n",
    "Our approach is using fine tuning a Sentence Transformers. We compare our fine-tune model with more complex Sentence models.\n",
    "</p>"
   ],
   "metadata": {
    "collapsed": false
   },
   "id": "8a0fe2f036346934"
  },
  {
   "cell_type": "code",
   "execution_count": 54,
   "outputs": [],
   "source": [
    "import pandas as pd\n",
    "import numpy as np\n",
    "from sentence_transformers import SentenceTransformer, models, util, InputExample, losses\n",
    "from torch.utils.data import DataLoader\n",
    "import pickle"
   ],
   "metadata": {
    "collapsed": false,
    "ExecuteTime": {
     "end_time": "2024-01-20T13:16:29.768425Z",
     "start_time": "2024-01-20T13:16:29.759089Z"
    }
   },
   "id": "125430811db6099"
  },
  {
   "cell_type": "markdown",
   "source": [
    "<h1 style = \"text-align:center\">\n",
    "Load data\n",
    "</h1>"
   ],
   "metadata": {
    "collapsed": false
   },
   "id": "d0fe508e5db578af"
  },
  {
   "cell_type": "code",
   "execution_count": 56,
   "outputs": [],
   "source": [
    "medical_file = '/Users/abelcamachoguardian/Downloads/train-00000-of-00001.parquet'\n",
    "medical_data = pd.read_parquet(medical_file)"
   ],
   "metadata": {
    "collapsed": false,
    "ExecuteTime": {
     "end_time": "2024-01-20T13:16:30.618754Z",
     "start_time": "2024-01-20T13:16:30.577152Z"
    }
   },
   "id": "b59482c481e6228d"
  },
  {
   "cell_type": "markdown",
   "source": [
    "<h1 style = \"text-align:center\">\n",
    "Data Exploration\n",
    "</h1>"
   ],
   "metadata": {
    "collapsed": false
   },
   "id": "9a28bf0d16c3e4e5"
  },
  {
   "cell_type": "code",
   "execution_count": 57,
   "outputs": [
    {
     "data": {
      "text/plain": "   dr_id                                         question_1  \\\n0      1  After how many hour from drinking an antibioti...   \n1      1  After how many hour from drinking an antibioti...   \n\n                                          question_2  label  \n0  I have a party tonight and I took my last dose...      1  \n1  I vomited this morning and I am not sure if it...      0  ",
      "text/html": "<div>\n<style scoped>\n    .dataframe tbody tr th:only-of-type {\n        vertical-align: middle;\n    }\n\n    .dataframe tbody tr th {\n        vertical-align: top;\n    }\n\n    .dataframe thead th {\n        text-align: right;\n    }\n</style>\n<table border=\"1\" class=\"dataframe\">\n  <thead>\n    <tr style=\"text-align: right;\">\n      <th></th>\n      <th>dr_id</th>\n      <th>question_1</th>\n      <th>question_2</th>\n      <th>label</th>\n    </tr>\n  </thead>\n  <tbody>\n    <tr>\n      <th>0</th>\n      <td>1</td>\n      <td>After how many hour from drinking an antibioti...</td>\n      <td>I have a party tonight and I took my last dose...</td>\n      <td>1</td>\n    </tr>\n    <tr>\n      <th>1</th>\n      <td>1</td>\n      <td>After how many hour from drinking an antibioti...</td>\n      <td>I vomited this morning and I am not sure if it...</td>\n      <td>0</td>\n    </tr>\n  </tbody>\n</table>\n</div>"
     },
     "execution_count": 57,
     "metadata": {},
     "output_type": "execute_result"
    }
   ],
   "source": [
    "medical_data.head(2)"
   ],
   "metadata": {
    "collapsed": false,
    "ExecuteTime": {
     "end_time": "2024-01-20T13:16:31.227810Z",
     "start_time": "2024-01-20T13:16:31.217992Z"
    }
   },
   "id": "4dcf1ce3bb89972d"
  },
  {
   "cell_type": "code",
   "execution_count": 58,
   "outputs": [],
   "source": [
    "medical_data.reset_index(inplace=True)"
   ],
   "metadata": {
    "collapsed": false,
    "ExecuteTime": {
     "end_time": "2024-01-20T13:16:32.052468Z",
     "start_time": "2024-01-20T13:16:32.036836Z"
    }
   },
   "id": "5de956f7e46b956d"
  },
  {
   "cell_type": "code",
   "execution_count": 59,
   "outputs": [],
   "source": [
    "medical_data['question_id'] = 0\n",
    "question_id = 0\n",
    "\n",
    "for i in range(medical_data.shape[0]):\n",
    "    if i%2==0:\n",
    "        question_id+=1\n",
    "    medical_data.loc[i,'question_id'] = question_id"
   ],
   "metadata": {
    "collapsed": false,
    "ExecuteTime": {
     "end_time": "2024-01-20T13:16:32.765073Z",
     "start_time": "2024-01-20T13:16:32.750609Z"
    }
   },
   "id": "8744bb59c83b74b8"
  },
  {
   "cell_type": "code",
   "execution_count": 60,
   "outputs": [],
   "source": [
    "number_of_different_questions = len(medical_data.question_id.unique())\n",
    "\n",
    "percentage_of_train_questions = 0.7\n",
    "train_number_of_questions = int(np.floor(number_of_different_questions*0.7))"
   ],
   "metadata": {
    "collapsed": false,
    "ExecuteTime": {
     "end_time": "2024-01-20T13:16:33.185488Z",
     "start_time": "2024-01-20T13:16:33.174784Z"
    }
   },
   "id": "a4db309677b4d5e4"
  },
  {
   "cell_type": "code",
   "execution_count": 61,
   "outputs": [],
   "source": [
    "permutation_of_questions = np.random.permutation(number_of_different_questions)\n",
    "\n",
    "train_questions_id = permutation_of_questions[0:train_number_of_questions]\n",
    "test_questions_id = permutation_of_questions[train_number_of_questions::]"
   ],
   "metadata": {
    "collapsed": false,
    "ExecuteTime": {
     "end_time": "2024-01-20T13:16:34.454966Z",
     "start_time": "2024-01-20T13:16:34.444759Z"
    }
   },
   "id": "2b18f07284c264f3"
  },
  {
   "cell_type": "code",
   "execution_count": 62,
   "outputs": [],
   "source": [
    "number_train_questions = int(train_questions_id.shape[0])"
   ],
   "metadata": {
    "collapsed": false,
    "ExecuteTime": {
     "end_time": "2024-01-20T13:16:34.636059Z",
     "start_time": "2024-01-20T13:16:34.626319Z"
    }
   },
   "id": "ca365c40ba214f2e"
  },
  {
   "cell_type": "code",
   "execution_count": 62,
   "outputs": [],
   "source": [],
   "metadata": {
    "collapsed": false,
    "ExecuteTime": {
     "end_time": "2024-01-20T13:16:34.909491Z",
     "start_time": "2024-01-20T13:16:34.898773Z"
    }
   },
   "id": "dae73ff781abfd16"
  },
  {
   "cell_type": "markdown",
   "source": [
    "<h1 style = \"text-align:center\">\n",
    "Data Augmentation\n",
    "</h1>\n",
    "<p>\n",
    "We are considering two options for data augmentation.\n",
    "The first one involves creating more triples using the existing dataset.\n",
    "The second one involves adding noise to the dataset, such as introducing typo errors to the questions or replacing words with synonyms\n",
    "</p>\n"
   ],
   "metadata": {
    "collapsed": false
   },
   "id": "76e163da14954aa"
  },
  {
   "cell_type": "code",
   "execution_count": 63,
   "outputs": [],
   "source": [
    "# Creating more triples using the existing questions\n",
    "for k in range(number_train_questions-1):\n",
    "    temp_question_id = medical_data['question_id'] == train_questions_id[k]\n",
    "    temp_label_1 = medical_data['label'] == 1\n",
    "    temp_random_question_id = medical_data['question_id'] == train_questions_id[k+1]\n",
    "\n",
    "    temp_question1= medical_data.loc[temp_question_id & temp_label_1,'question_1']\n",
    "    temp_question2 = medical_data.loc[temp_question_id & temp_label_1,'question_2']\n",
    "    question_id = number_of_different_questions+k+1\n",
    "    \n",
    "    temp_new_question = medical_data.loc[ temp_random_question_id & temp_label_1,'question_2']\n",
    "\n",
    "    if k==0:\n",
    "        temp_dataset = pd.DataFrame({'dr_id': [-1],\n",
    "                         'question_1':list(temp_question1),\n",
    "                         'question_2': list(temp_question2),\n",
    "                        'label': [1],\n",
    "                         'question_id': [question_id]})\n",
    "        \n",
    "        temp_dataset = pd.concat([ temp_dataset, pd.DataFrame({'dr_id': [-1],\n",
    "                         'question_1':list(temp_question1),\n",
    "                         'question_2': list(temp_new_question),\n",
    "                        'label': [0],\n",
    "                         'question_id': [question_id]})],ignore_index=True)\n",
    "        \n",
    "    else:\n",
    "        temp_dataset = pd.concat([ temp_dataset, pd.DataFrame({'dr_id': [-1],\n",
    "                         'question_1':list(temp_question1),\n",
    "                         'question_2': list(temp_question2),\n",
    "                        'label': [1],\n",
    "                         'question_id': [question_id]})],ignore_index=True)\n",
    "    \n",
    "    \n",
    "        temp_dataset = pd.concat([ temp_dataset, pd.DataFrame({'dr_id': [-1],\n",
    "                         'question_1':list(temp_question1),\n",
    "                         'question_2': list(temp_new_question),\n",
    "                        'label': [0],\n",
    "                         'question_id': [question_id]})],ignore_index=True)\n",
    "        "
   ],
   "metadata": {
    "collapsed": false,
    "ExecuteTime": {
     "end_time": "2024-01-20T13:16:35.866223Z",
     "start_time": "2024-01-20T13:16:35.253466Z"
    }
   },
   "id": "b97f971ba570ea1f"
  },
  {
   "cell_type": "code",
   "execution_count": 64,
   "outputs": [],
   "source": [
    "train_data = pd.concat([medical_data.loc[train_questions_id], temp_dataset], ignore_index=True)"
   ],
   "metadata": {
    "collapsed": false,
    "ExecuteTime": {
     "end_time": "2024-01-20T13:16:36.714281Z",
     "start_time": "2024-01-20T13:16:36.699269Z"
    }
   },
   "id": "14648cd122a59100"
  },
  {
   "cell_type": "markdown",
   "source": [
    "<h1 style = \"text-align:center\">\n",
    "Data processing\n",
    "</h1>"
   ],
   "metadata": {
    "collapsed": false
   },
   "id": "d4c888748c7f4bd4"
  },
  {
   "cell_type": "code",
   "execution_count": 66,
   "outputs": [],
   "source": [
    "train_examples = []"
   ],
   "metadata": {
    "collapsed": false,
    "ExecuteTime": {
     "end_time": "2024-01-20T13:16:38.943882Z",
     "start_time": "2024-01-20T13:16:38.932961Z"
    }
   },
   "id": "8d6b5f81437bc559"
  },
  {
   "cell_type": "markdown",
   "source": [
    "The example is a triplet (anchor, positive, negative) without classes or labels for the sentences"
   ],
   "metadata": {
    "collapsed": false
   },
   "id": "41b8088a27fc3eb0"
  },
  {
   "cell_type": "code",
   "execution_count": 67,
   "outputs": [],
   "source": [
    "for i in train_data.question_id.unique():\n",
    "\n",
    "    example = train_data.loc[train_data.question_id == i]\n",
    "    if example.shape[0] == 2:\n",
    "        question = example.loc[example['label'] == 1].question_1.iloc[0]\n",
    "        positive_example = example.loc[example['label'] == 1].question_2.iloc[0]\n",
    "        negative_example = example.loc[example['label'] == 0].question_2.iloc[0]\n",
    "        train_examples.append(InputExample(texts=[question, positive_example, negative_example]))"
   ],
   "metadata": {
    "collapsed": false,
    "ExecuteTime": {
     "end_time": "2024-01-20T13:16:40.238649Z",
     "start_time": "2024-01-20T13:16:39.761164Z"
    }
   },
   "id": "e5d1d302146dd51d"
  },
  {
   "cell_type": "markdown",
   "source": [
    "<h1 style = \"text-align:center\">\n",
    "Fine tuning Models\n",
    "</h1>"
   ],
   "metadata": {
    "collapsed": false
   },
   "id": "87b8e7a093b1af78"
  },
  {
   "cell_type": "code",
   "execution_count": null,
   "outputs": [
    {
     "data": {
      "text/plain": "Epoch:   0%|          | 0/50 [00:00<?, ?it/s]",
      "application/vnd.jupyter.widget-view+json": {
       "version_major": 2,
       "version_minor": 0,
       "model_id": "d419ae4f1dc645358c17dabfcdafb326"
      }
     },
     "metadata": {},
     "output_type": "display_data"
    },
    {
     "data": {
      "text/plain": "Iteration:   0%|          | 0/6 [00:00<?, ?it/s]",
      "application/vnd.jupyter.widget-view+json": {
       "version_major": 2,
       "version_minor": 0,
       "model_id": "7de11e3dc66b489c8547a81b75eb57e5"
      }
     },
     "metadata": {},
     "output_type": "display_data"
    },
    {
     "data": {
      "text/plain": "Iteration:   0%|          | 0/6 [00:00<?, ?it/s]",
      "application/vnd.jupyter.widget-view+json": {
       "version_major": 2,
       "version_minor": 0,
       "model_id": "49a42a89eb79426297475ab85b839f72"
      }
     },
     "metadata": {},
     "output_type": "display_data"
    },
    {
     "data": {
      "text/plain": "Iteration:   0%|          | 0/6 [00:00<?, ?it/s]",
      "application/vnd.jupyter.widget-view+json": {
       "version_major": 2,
       "version_minor": 0,
       "model_id": "0240ba40245c449d829c722a69c96f65"
      }
     },
     "metadata": {},
     "output_type": "display_data"
    },
    {
     "data": {
      "text/plain": "Iteration:   0%|          | 0/6 [00:00<?, ?it/s]",
      "application/vnd.jupyter.widget-view+json": {
       "version_major": 2,
       "version_minor": 0,
       "model_id": "6c5f11363d074f2c8f97803fada0598c"
      }
     },
     "metadata": {},
     "output_type": "display_data"
    },
    {
     "data": {
      "text/plain": "Iteration:   0%|          | 0/6 [00:00<?, ?it/s]",
      "application/vnd.jupyter.widget-view+json": {
       "version_major": 2,
       "version_minor": 0,
       "model_id": "0cfd531e1ebb4f44a18b49d7b7e3ccf9"
      }
     },
     "metadata": {},
     "output_type": "display_data"
    },
    {
     "data": {
      "text/plain": "Iteration:   0%|          | 0/6 [00:00<?, ?it/s]",
      "application/vnd.jupyter.widget-view+json": {
       "version_major": 2,
       "version_minor": 0,
       "model_id": "d39fe3f4290f42299defb274076cbc57"
      }
     },
     "metadata": {},
     "output_type": "display_data"
    },
    {
     "data": {
      "text/plain": "Iteration:   0%|          | 0/6 [00:00<?, ?it/s]",
      "application/vnd.jupyter.widget-view+json": {
       "version_major": 2,
       "version_minor": 0,
       "model_id": "031a9921525d492887aa03825032d37a"
      }
     },
     "metadata": {},
     "output_type": "display_data"
    },
    {
     "data": {
      "text/plain": "Iteration:   0%|          | 0/6 [00:00<?, ?it/s]",
      "application/vnd.jupyter.widget-view+json": {
       "version_major": 2,
       "version_minor": 0,
       "model_id": "a24bfca24e4e4a0ea3e1ab4421bce96e"
      }
     },
     "metadata": {},
     "output_type": "display_data"
    },
    {
     "data": {
      "text/plain": "Iteration:   0%|          | 0/6 [00:00<?, ?it/s]",
      "application/vnd.jupyter.widget-view+json": {
       "version_major": 2,
       "version_minor": 0,
       "model_id": "32ecd55a4f2644f0b46e89a8273893ef"
      }
     },
     "metadata": {},
     "output_type": "display_data"
    },
    {
     "data": {
      "text/plain": "Iteration:   0%|          | 0/6 [00:00<?, ?it/s]",
      "application/vnd.jupyter.widget-view+json": {
       "version_major": 2,
       "version_minor": 0,
       "model_id": "a3de584162664976bdf914bb1580ce59"
      }
     },
     "metadata": {},
     "output_type": "display_data"
    },
    {
     "data": {
      "text/plain": "Iteration:   0%|          | 0/6 [00:00<?, ?it/s]",
      "application/vnd.jupyter.widget-view+json": {
       "version_major": 2,
       "version_minor": 0,
       "model_id": "071f6a6469cd4fd1a3f170527aabaf03"
      }
     },
     "metadata": {},
     "output_type": "display_data"
    },
    {
     "data": {
      "text/plain": "Iteration:   0%|          | 0/6 [00:00<?, ?it/s]",
      "application/vnd.jupyter.widget-view+json": {
       "version_major": 2,
       "version_minor": 0,
       "model_id": "142813fb5a954d77a4bc0f301a618969"
      }
     },
     "metadata": {},
     "output_type": "display_data"
    },
    {
     "data": {
      "text/plain": "Iteration:   0%|          | 0/6 [00:00<?, ?it/s]",
      "application/vnd.jupyter.widget-view+json": {
       "version_major": 2,
       "version_minor": 0,
       "model_id": "4a9c184ba708411287abe7981feb7437"
      }
     },
     "metadata": {},
     "output_type": "display_data"
    },
    {
     "data": {
      "text/plain": "Iteration:   0%|          | 0/6 [00:00<?, ?it/s]",
      "application/vnd.jupyter.widget-view+json": {
       "version_major": 2,
       "version_minor": 0,
       "model_id": "359dab32e20541edbc883b4b415b9fc1"
      }
     },
     "metadata": {},
     "output_type": "display_data"
    },
    {
     "data": {
      "text/plain": "Iteration:   0%|          | 0/6 [00:00<?, ?it/s]",
      "application/vnd.jupyter.widget-view+json": {
       "version_major": 2,
       "version_minor": 0,
       "model_id": "7c8bb87fa82148d28ee611b0de7d5c1e"
      }
     },
     "metadata": {},
     "output_type": "display_data"
    },
    {
     "data": {
      "text/plain": "Iteration:   0%|          | 0/6 [00:00<?, ?it/s]",
      "application/vnd.jupyter.widget-view+json": {
       "version_major": 2,
       "version_minor": 0,
       "model_id": "753f601314824779bd93afc35e27ed87"
      }
     },
     "metadata": {},
     "output_type": "display_data"
    },
    {
     "data": {
      "text/plain": "Iteration:   0%|          | 0/6 [00:00<?, ?it/s]",
      "application/vnd.jupyter.widget-view+json": {
       "version_major": 2,
       "version_minor": 0,
       "model_id": "c655ff155c3243dbb8fa3e4f2385d3a9"
      }
     },
     "metadata": {},
     "output_type": "display_data"
    },
    {
     "data": {
      "text/plain": "Iteration:   0%|          | 0/6 [00:00<?, ?it/s]",
      "application/vnd.jupyter.widget-view+json": {
       "version_major": 2,
       "version_minor": 0,
       "model_id": "d1d7729f62424a689d40b6d598e4f7de"
      }
     },
     "metadata": {},
     "output_type": "display_data"
    },
    {
     "data": {
      "text/plain": "Iteration:   0%|          | 0/6 [00:00<?, ?it/s]",
      "application/vnd.jupyter.widget-view+json": {
       "version_major": 2,
       "version_minor": 0,
       "model_id": "bc1eaa8540ea499580d1006342bdf602"
      }
     },
     "metadata": {},
     "output_type": "display_data"
    },
    {
     "data": {
      "text/plain": "Iteration:   0%|          | 0/6 [00:00<?, ?it/s]",
      "application/vnd.jupyter.widget-view+json": {
       "version_major": 2,
       "version_minor": 0,
       "model_id": "d8a3efc4c84a41c2ada425b1dad52cb3"
      }
     },
     "metadata": {},
     "output_type": "display_data"
    },
    {
     "data": {
      "text/plain": "Iteration:   0%|          | 0/6 [00:00<?, ?it/s]",
      "application/vnd.jupyter.widget-view+json": {
       "version_major": 2,
       "version_minor": 0,
       "model_id": "02257b3d7e8d4d848ef3fd6da86e874a"
      }
     },
     "metadata": {},
     "output_type": "display_data"
    },
    {
     "data": {
      "text/plain": "Iteration:   0%|          | 0/6 [00:00<?, ?it/s]",
      "application/vnd.jupyter.widget-view+json": {
       "version_major": 2,
       "version_minor": 0,
       "model_id": "838129ceac844846bb448be88033b955"
      }
     },
     "metadata": {},
     "output_type": "display_data"
    },
    {
     "data": {
      "text/plain": "Iteration:   0%|          | 0/6 [00:00<?, ?it/s]",
      "application/vnd.jupyter.widget-view+json": {
       "version_major": 2,
       "version_minor": 0,
       "model_id": "fd88a62311e240e89013280633073f79"
      }
     },
     "metadata": {},
     "output_type": "display_data"
    },
    {
     "data": {
      "text/plain": "Iteration:   0%|          | 0/6 [00:00<?, ?it/s]",
      "application/vnd.jupyter.widget-view+json": {
       "version_major": 2,
       "version_minor": 0,
       "model_id": "e7219ebb9b06426db7145b1c099d8f6b"
      }
     },
     "metadata": {},
     "output_type": "display_data"
    },
    {
     "data": {
      "text/plain": "Iteration:   0%|          | 0/6 [00:00<?, ?it/s]",
      "application/vnd.jupyter.widget-view+json": {
       "version_major": 2,
       "version_minor": 0,
       "model_id": "9dc2537ab932474183b7947f2cdf1278"
      }
     },
     "metadata": {},
     "output_type": "display_data"
    },
    {
     "data": {
      "text/plain": "Iteration:   0%|          | 0/6 [00:00<?, ?it/s]",
      "application/vnd.jupyter.widget-view+json": {
       "version_major": 2,
       "version_minor": 0,
       "model_id": "463e5e3c76454c6487846b11a72d4974"
      }
     },
     "metadata": {},
     "output_type": "display_data"
    },
    {
     "data": {
      "text/plain": "Iteration:   0%|          | 0/6 [00:00<?, ?it/s]",
      "application/vnd.jupyter.widget-view+json": {
       "version_major": 2,
       "version_minor": 0,
       "model_id": "2e63a1e5a1ee45209e3532d726099598"
      }
     },
     "metadata": {},
     "output_type": "display_data"
    },
    {
     "data": {
      "text/plain": "Iteration:   0%|          | 0/6 [00:00<?, ?it/s]",
      "application/vnd.jupyter.widget-view+json": {
       "version_major": 2,
       "version_minor": 0,
       "model_id": "96231badc44b46ff836bf3366f747a76"
      }
     },
     "metadata": {},
     "output_type": "display_data"
    },
    {
     "data": {
      "text/plain": "Iteration:   0%|          | 0/6 [00:00<?, ?it/s]",
      "application/vnd.jupyter.widget-view+json": {
       "version_major": 2,
       "version_minor": 0,
       "model_id": "b07166ba99bf424d90ea080cf807d4af"
      }
     },
     "metadata": {},
     "output_type": "display_data"
    },
    {
     "data": {
      "text/plain": "Iteration:   0%|          | 0/6 [00:00<?, ?it/s]",
      "application/vnd.jupyter.widget-view+json": {
       "version_major": 2,
       "version_minor": 0,
       "model_id": "2f0de984dc904af5af203e3720c9f247"
      }
     },
     "metadata": {},
     "output_type": "display_data"
    },
    {
     "data": {
      "text/plain": "Iteration:   0%|          | 0/6 [00:00<?, ?it/s]",
      "application/vnd.jupyter.widget-view+json": {
       "version_major": 2,
       "version_minor": 0,
       "model_id": "6e124e24fe804025b69e10c85518fe35"
      }
     },
     "metadata": {},
     "output_type": "display_data"
    },
    {
     "data": {
      "text/plain": "Iteration:   0%|          | 0/6 [00:00<?, ?it/s]",
      "application/vnd.jupyter.widget-view+json": {
       "version_major": 2,
       "version_minor": 0,
       "model_id": "10200273b4ad4a6bb99c75b79d6a2a4b"
      }
     },
     "metadata": {},
     "output_type": "display_data"
    },
    {
     "data": {
      "text/plain": "Iteration:   0%|          | 0/6 [00:00<?, ?it/s]",
      "application/vnd.jupyter.widget-view+json": {
       "version_major": 2,
       "version_minor": 0,
       "model_id": "39edd15051864b4aa1a2c8e39b447ba9"
      }
     },
     "metadata": {},
     "output_type": "display_data"
    },
    {
     "data": {
      "text/plain": "Iteration:   0%|          | 0/6 [00:00<?, ?it/s]",
      "application/vnd.jupyter.widget-view+json": {
       "version_major": 2,
       "version_minor": 0,
       "model_id": "c2eabbf6d7164590af0c76c7746e9e3e"
      }
     },
     "metadata": {},
     "output_type": "display_data"
    },
    {
     "data": {
      "text/plain": "Iteration:   0%|          | 0/6 [00:00<?, ?it/s]",
      "application/vnd.jupyter.widget-view+json": {
       "version_major": 2,
       "version_minor": 0,
       "model_id": "a6db46587a04474ba479388ee3aa3442"
      }
     },
     "metadata": {},
     "output_type": "display_data"
    },
    {
     "data": {
      "text/plain": "Iteration:   0%|          | 0/6 [00:00<?, ?it/s]",
      "application/vnd.jupyter.widget-view+json": {
       "version_major": 2,
       "version_minor": 0,
       "model_id": "b8ca5b8af1e140889ed7c29f0f637982"
      }
     },
     "metadata": {},
     "output_type": "display_data"
    },
    {
     "data": {
      "text/plain": "Iteration:   0%|          | 0/6 [00:00<?, ?it/s]",
      "application/vnd.jupyter.widget-view+json": {
       "version_major": 2,
       "version_minor": 0,
       "model_id": "40ee5099b2f84a69bf4f6ede52ffa604"
      }
     },
     "metadata": {},
     "output_type": "display_data"
    },
    {
     "data": {
      "text/plain": "Iteration:   0%|          | 0/6 [00:00<?, ?it/s]",
      "application/vnd.jupyter.widget-view+json": {
       "version_major": 2,
       "version_minor": 0,
       "model_id": "f721ef78ddbb47539a7630207bc3a4d7"
      }
     },
     "metadata": {},
     "output_type": "display_data"
    },
    {
     "data": {
      "text/plain": "Iteration:   0%|          | 0/6 [00:00<?, ?it/s]",
      "application/vnd.jupyter.widget-view+json": {
       "version_major": 2,
       "version_minor": 0,
       "model_id": "c4bb9101733545278f0cabac4729024e"
      }
     },
     "metadata": {},
     "output_type": "display_data"
    },
    {
     "data": {
      "text/plain": "Iteration:   0%|          | 0/6 [00:00<?, ?it/s]",
      "application/vnd.jupyter.widget-view+json": {
       "version_major": 2,
       "version_minor": 0,
       "model_id": "b5770bc5b1e642ab83c0bf7769f39f03"
      }
     },
     "metadata": {},
     "output_type": "display_data"
    },
    {
     "data": {
      "text/plain": "Iteration:   0%|          | 0/6 [00:00<?, ?it/s]",
      "application/vnd.jupyter.widget-view+json": {
       "version_major": 2,
       "version_minor": 0,
       "model_id": "8b8bd0e778bd4898bc60552105b78ec1"
      }
     },
     "metadata": {},
     "output_type": "display_data"
    },
    {
     "data": {
      "text/plain": "Iteration:   0%|          | 0/6 [00:00<?, ?it/s]",
      "application/vnd.jupyter.widget-view+json": {
       "version_major": 2,
       "version_minor": 0,
       "model_id": "fb127acbdb764580a8cbbc3bf53d859a"
      }
     },
     "metadata": {},
     "output_type": "display_data"
    },
    {
     "data": {
      "text/plain": "Iteration:   0%|          | 0/6 [00:00<?, ?it/s]",
      "application/vnd.jupyter.widget-view+json": {
       "version_major": 2,
       "version_minor": 0,
       "model_id": "813e79d2d07a4479b97baecec858c300"
      }
     },
     "metadata": {},
     "output_type": "display_data"
    },
    {
     "data": {
      "text/plain": "Iteration:   0%|          | 0/6 [00:00<?, ?it/s]",
      "application/vnd.jupyter.widget-view+json": {
       "version_major": 2,
       "version_minor": 0,
       "model_id": "926e5ee794004ba1827935fd030ecedc"
      }
     },
     "metadata": {},
     "output_type": "display_data"
    },
    {
     "data": {
      "text/plain": "Iteration:   0%|          | 0/6 [00:00<?, ?it/s]",
      "application/vnd.jupyter.widget-view+json": {
       "version_major": 2,
       "version_minor": 0,
       "model_id": "b271a8c0cf964be4bafc350eb13546ce"
      }
     },
     "metadata": {},
     "output_type": "display_data"
    },
    {
     "data": {
      "text/plain": "Iteration:   0%|          | 0/6 [00:00<?, ?it/s]",
      "application/vnd.jupyter.widget-view+json": {
       "version_major": 2,
       "version_minor": 0,
       "model_id": "015ab61c5fdd476795375dc778398538"
      }
     },
     "metadata": {},
     "output_type": "display_data"
    },
    {
     "data": {
      "text/plain": "Iteration:   0%|          | 0/6 [00:00<?, ?it/s]",
      "application/vnd.jupyter.widget-view+json": {
       "version_major": 2,
       "version_minor": 0,
       "model_id": "5801ced905064b6492755914f8023079"
      }
     },
     "metadata": {},
     "output_type": "display_data"
    },
    {
     "data": {
      "text/plain": "Iteration:   0%|          | 0/6 [00:00<?, ?it/s]",
      "application/vnd.jupyter.widget-view+json": {
       "version_major": 2,
       "version_minor": 0,
       "model_id": "ca731354262146c8bc5a244f2e142f4b"
      }
     },
     "metadata": {},
     "output_type": "display_data"
    },
    {
     "data": {
      "text/plain": "Iteration:   0%|          | 0/6 [00:00<?, ?it/s]",
      "application/vnd.jupyter.widget-view+json": {
       "version_major": 2,
       "version_minor": 0,
       "model_id": "367e6815f2ac420da1918c05a6578220"
      }
     },
     "metadata": {},
     "output_type": "display_data"
    },
    {
     "data": {
      "text/plain": "Iteration:   0%|          | 0/6 [00:00<?, ?it/s]",
      "application/vnd.jupyter.widget-view+json": {
       "version_major": 2,
       "version_minor": 0,
       "model_id": "6887bd840e7241f3a9d2340210bb4e7a"
      }
     },
     "metadata": {},
     "output_type": "display_data"
    },
    {
     "name": "stdout",
     "output_type": "stream",
     "text": [
      "distilbert-base-uncased\n"
     ]
    },
    {
     "data": {
      "text/plain": "Epoch:   0%|          | 0/50 [00:00<?, ?it/s]",
      "application/vnd.jupyter.widget-view+json": {
       "version_major": 2,
       "version_minor": 0,
       "model_id": "95f5b1950d1b427ab5dc78fc299540f5"
      }
     },
     "metadata": {},
     "output_type": "display_data"
    },
    {
     "data": {
      "text/plain": "Iteration:   0%|          | 0/6 [00:00<?, ?it/s]",
      "application/vnd.jupyter.widget-view+json": {
       "version_major": 2,
       "version_minor": 0,
       "model_id": "86e0249a416e4806acd17105205133a9"
      }
     },
     "metadata": {},
     "output_type": "display_data"
    },
    {
     "data": {
      "text/plain": "Iteration:   0%|          | 0/6 [00:00<?, ?it/s]",
      "application/vnd.jupyter.widget-view+json": {
       "version_major": 2,
       "version_minor": 0,
       "model_id": "b162367ee8f64ffc96f8feddc9be477a"
      }
     },
     "metadata": {},
     "output_type": "display_data"
    },
    {
     "data": {
      "text/plain": "Iteration:   0%|          | 0/6 [00:00<?, ?it/s]",
      "application/vnd.jupyter.widget-view+json": {
       "version_major": 2,
       "version_minor": 0,
       "model_id": "f80bec5a945d49eab2146e1b8a8c0dec"
      }
     },
     "metadata": {},
     "output_type": "display_data"
    },
    {
     "data": {
      "text/plain": "Iteration:   0%|          | 0/6 [00:00<?, ?it/s]",
      "application/vnd.jupyter.widget-view+json": {
       "version_major": 2,
       "version_minor": 0,
       "model_id": "57104eb6746e4f04afcca656f764261c"
      }
     },
     "metadata": {},
     "output_type": "display_data"
    },
    {
     "data": {
      "text/plain": "Iteration:   0%|          | 0/6 [00:00<?, ?it/s]",
      "application/vnd.jupyter.widget-view+json": {
       "version_major": 2,
       "version_minor": 0,
       "model_id": "8cca811b9dae4deaace3438290d3d1f8"
      }
     },
     "metadata": {},
     "output_type": "display_data"
    },
    {
     "data": {
      "text/plain": "Iteration:   0%|          | 0/6 [00:00<?, ?it/s]",
      "application/vnd.jupyter.widget-view+json": {
       "version_major": 2,
       "version_minor": 0,
       "model_id": "d42e84b9c02c477992452d4f7a6315b7"
      }
     },
     "metadata": {},
     "output_type": "display_data"
    },
    {
     "data": {
      "text/plain": "Iteration:   0%|          | 0/6 [00:00<?, ?it/s]",
      "application/vnd.jupyter.widget-view+json": {
       "version_major": 2,
       "version_minor": 0,
       "model_id": "7c22dcd3f6a94026843c7f0c6b606d17"
      }
     },
     "metadata": {},
     "output_type": "display_data"
    },
    {
     "data": {
      "text/plain": "Iteration:   0%|          | 0/6 [00:00<?, ?it/s]",
      "application/vnd.jupyter.widget-view+json": {
       "version_major": 2,
       "version_minor": 0,
       "model_id": "379c0d49dbac4f7684f72fb1a02aca3e"
      }
     },
     "metadata": {},
     "output_type": "display_data"
    },
    {
     "data": {
      "text/plain": "Iteration:   0%|          | 0/6 [00:00<?, ?it/s]",
      "application/vnd.jupyter.widget-view+json": {
       "version_major": 2,
       "version_minor": 0,
       "model_id": "c16da1f8b63d436ebf270cd56a062e59"
      }
     },
     "metadata": {},
     "output_type": "display_data"
    },
    {
     "data": {
      "text/plain": "Iteration:   0%|          | 0/6 [00:00<?, ?it/s]",
      "application/vnd.jupyter.widget-view+json": {
       "version_major": 2,
       "version_minor": 0,
       "model_id": "7d6093511886433cb2ba358d039cc73f"
      }
     },
     "metadata": {},
     "output_type": "display_data"
    },
    {
     "data": {
      "text/plain": "Iteration:   0%|          | 0/6 [00:00<?, ?it/s]",
      "application/vnd.jupyter.widget-view+json": {
       "version_major": 2,
       "version_minor": 0,
       "model_id": "d4bb357ac3f04b3ba4ab5f138b3915fc"
      }
     },
     "metadata": {},
     "output_type": "display_data"
    },
    {
     "data": {
      "text/plain": "Iteration:   0%|          | 0/6 [00:00<?, ?it/s]",
      "application/vnd.jupyter.widget-view+json": {
       "version_major": 2,
       "version_minor": 0,
       "model_id": "10e61e113e71479aad81ed6933b0b459"
      }
     },
     "metadata": {},
     "output_type": "display_data"
    },
    {
     "data": {
      "text/plain": "Iteration:   0%|          | 0/6 [00:00<?, ?it/s]",
      "application/vnd.jupyter.widget-view+json": {
       "version_major": 2,
       "version_minor": 0,
       "model_id": "b3f95cd9cd56465ea714a53d5fc8af11"
      }
     },
     "metadata": {},
     "output_type": "display_data"
    },
    {
     "data": {
      "text/plain": "Iteration:   0%|          | 0/6 [00:00<?, ?it/s]",
      "application/vnd.jupyter.widget-view+json": {
       "version_major": 2,
       "version_minor": 0,
       "model_id": "3c63827114e54d59bfbb2f9574711544"
      }
     },
     "metadata": {},
     "output_type": "display_data"
    },
    {
     "data": {
      "text/plain": "Iteration:   0%|          | 0/6 [00:00<?, ?it/s]",
      "application/vnd.jupyter.widget-view+json": {
       "version_major": 2,
       "version_minor": 0,
       "model_id": "71fef94828824b83b2bbcb6adf5dd96b"
      }
     },
     "metadata": {},
     "output_type": "display_data"
    },
    {
     "data": {
      "text/plain": "Iteration:   0%|          | 0/6 [00:00<?, ?it/s]",
      "application/vnd.jupyter.widget-view+json": {
       "version_major": 2,
       "version_minor": 0,
       "model_id": "50bfcb76d46c4d2e93f55c18c32fa6b3"
      }
     },
     "metadata": {},
     "output_type": "display_data"
    },
    {
     "data": {
      "text/plain": "Iteration:   0%|          | 0/6 [00:00<?, ?it/s]",
      "application/vnd.jupyter.widget-view+json": {
       "version_major": 2,
       "version_minor": 0,
       "model_id": "95e79b75c77246d685b72fe2e9f4adee"
      }
     },
     "metadata": {},
     "output_type": "display_data"
    },
    {
     "data": {
      "text/plain": "Iteration:   0%|          | 0/6 [00:00<?, ?it/s]",
      "application/vnd.jupyter.widget-view+json": {
       "version_major": 2,
       "version_minor": 0,
       "model_id": "3deb627985aa4173955be757a39758c0"
      }
     },
     "metadata": {},
     "output_type": "display_data"
    },
    {
     "data": {
      "text/plain": "Iteration:   0%|          | 0/6 [00:00<?, ?it/s]",
      "application/vnd.jupyter.widget-view+json": {
       "version_major": 2,
       "version_minor": 0,
       "model_id": "e956543f94034d0e87dba3ea1dd434c0"
      }
     },
     "metadata": {},
     "output_type": "display_data"
    },
    {
     "data": {
      "text/plain": "Iteration:   0%|          | 0/6 [00:00<?, ?it/s]",
      "application/vnd.jupyter.widget-view+json": {
       "version_major": 2,
       "version_minor": 0,
       "model_id": "1d820835b53e48a3bed14dbba8859a2e"
      }
     },
     "metadata": {},
     "output_type": "display_data"
    },
    {
     "data": {
      "text/plain": "Iteration:   0%|          | 0/6 [00:00<?, ?it/s]",
      "application/vnd.jupyter.widget-view+json": {
       "version_major": 2,
       "version_minor": 0,
       "model_id": "f3a65da2119e4cd6a68f59f0ae731b17"
      }
     },
     "metadata": {},
     "output_type": "display_data"
    }
   ],
   "source": [
    "fine_tune_models = ['distilbert-base-uncased', 'bert-base-uncased']\n",
    "num_epochs = 50\n",
    "\n",
    "for data_type in ['actual_data', 'augmented_data', '2x_augmented_data']:\n",
    "    for  model_id in fine_tune_models:\n",
    "        model_raw = models.Transformer(model_id)\n",
    "\n",
    "        ## Step 1: use an existing language model\n",
    "        word_embedding_model = models.Transformer(model_id)\n",
    "        ## Step 2: use a pool function over the token embeddings\n",
    "        pooling_model = models.Pooling(word_embedding_model.get_word_embedding_dimension())\n",
    "\n",
    "        model_fine_tune = SentenceTransformer(modules=[word_embedding_model, pooling_model])\n",
    "        #Convert the training examples to a Dataloader.\n",
    "        train_dataloader = DataLoader(train_examples, shuffle=True, batch_size=250)\n",
    "\n",
    "        # TripletLoss: loss minimizes the distance between the anchor and the positive sentences while maximizing the          between the anchor and the negative sentences.\n",
    "        train_loss = losses.TripletLoss(model=model_fine_tune)\n",
    "\n",
    "        warmup_steps = int(len(train_dataloader) * num_epochs * 0.1) \n",
    "\n",
    "        model_fine_tune.fit(train_objectives=[(train_dataloader, train_loss)],\n",
    "                    epochs=num_epochs,\n",
    "                    warmup_steps=warmup_steps)\n",
    "    \n",
    "        # Save model\n",
    "        pickle.dump(model_fine_tune, open('/Users/abelcamachoguardian/Downloads/data_augmentation_'+str(num_epochs)+'-'+model_id+'-fine_tune.pkl', 'wb'))\n",
    "        print(model_id)"
   ],
   "metadata": {
    "collapsed": false,
    "is_executing": true,
    "ExecuteTime": {
     "start_time": "2024-01-20T16:56:16.595641Z"
    }
   },
   "id": "ce0d6411e6183788"
  },
  {
   "cell_type": "markdown",
   "source": [],
   "metadata": {
    "collapsed": false
   },
   "id": "9b22317a63c3ac29"
  }
 ],
 "metadata": {
  "kernelspec": {
   "display_name": "Python 3",
   "language": "python",
   "name": "python3"
  },
  "language_info": {
   "codemirror_mode": {
    "name": "ipython",
    "version": 2
   },
   "file_extension": ".py",
   "mimetype": "text/x-python",
   "name": "python",
   "nbconvert_exporter": "python",
   "pygments_lexer": "ipython2",
   "version": "2.7.6"
  }
 },
 "nbformat": 4,
 "nbformat_minor": 5
}
