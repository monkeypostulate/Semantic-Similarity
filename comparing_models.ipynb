{
 "cells": [
  {
   "cell_type": "code",
   "execution_count": 248,
   "id": "initial_id",
   "metadata": {
    "collapsed": true,
    "ExecuteTime": {
     "end_time": "2024-01-24T16:05:35.502797Z",
     "start_time": "2024-01-24T16:05:35.494312Z"
    }
   },
   "outputs": [],
   "source": [
    "import pandas as pd\n",
    "import numpy as np\n",
    "import pickle\n",
    "from sentence_transformers import SentenceTransformer, models"
   ]
  },
  {
   "cell_type": "code",
   "execution_count": 249,
   "outputs": [],
   "source": [
    "from utils.metric import accuracy as accuracy"
   ],
   "metadata": {
    "collapsed": false,
    "ExecuteTime": {
     "end_time": "2024-01-24T16:05:35.652188Z",
     "start_time": "2024-01-24T16:05:35.646963Z"
    }
   },
   "id": "9db80b4ad64ae398"
  },
  {
   "cell_type": "markdown",
   "source": [
    "<h1 style = \"text-align:center\">\n",
    "Load data\n",
    "</h1>"
   ],
   "metadata": {
    "collapsed": false
   },
   "id": "781f671d693bd775"
  },
  {
   "cell_type": "code",
   "execution_count": 250,
   "outputs": [
    {
     "ename": "FileNotFoundError",
     "evalue": "[Errno 2] No such file or directory: '/Users/abelcamachoguardian/Downloads/medical_test_data.csv'",
     "output_type": "error",
     "traceback": [
      "\u001B[0;31m---------------------------------------------------------------------------\u001B[0m",
      "\u001B[0;31mFileNotFoundError\u001B[0m                         Traceback (most recent call last)",
      "Cell \u001B[0;32mIn[250], line 1\u001B[0m\n\u001B[0;32m----> 1\u001B[0m medical_data \u001B[38;5;241m=\u001B[39m \u001B[43mpd\u001B[49m\u001B[38;5;241;43m.\u001B[39;49m\u001B[43mread_csv\u001B[49m\u001B[43m(\u001B[49m\u001B[38;5;124;43m'\u001B[39;49m\u001B[38;5;124;43m/Users/abelcamachoguardian/Downloads/medical_test_data.csv\u001B[39;49m\u001B[38;5;124;43m'\u001B[39;49m\u001B[43m)\u001B[49m\n",
      "File \u001B[0;32m~/PycharmProjects/ScriptsNightingale/nightingale/lib/python3.11/site-packages/pandas/io/parsers/readers.py:948\u001B[0m, in \u001B[0;36mread_csv\u001B[0;34m(filepath_or_buffer, sep, delimiter, header, names, index_col, usecols, dtype, engine, converters, true_values, false_values, skipinitialspace, skiprows, skipfooter, nrows, na_values, keep_default_na, na_filter, verbose, skip_blank_lines, parse_dates, infer_datetime_format, keep_date_col, date_parser, date_format, dayfirst, cache_dates, iterator, chunksize, compression, thousands, decimal, lineterminator, quotechar, quoting, doublequote, escapechar, comment, encoding, encoding_errors, dialect, on_bad_lines, delim_whitespace, low_memory, memory_map, float_precision, storage_options, dtype_backend)\u001B[0m\n\u001B[1;32m    935\u001B[0m kwds_defaults \u001B[38;5;241m=\u001B[39m _refine_defaults_read(\n\u001B[1;32m    936\u001B[0m     dialect,\n\u001B[1;32m    937\u001B[0m     delimiter,\n\u001B[0;32m   (...)\u001B[0m\n\u001B[1;32m    944\u001B[0m     dtype_backend\u001B[38;5;241m=\u001B[39mdtype_backend,\n\u001B[1;32m    945\u001B[0m )\n\u001B[1;32m    946\u001B[0m kwds\u001B[38;5;241m.\u001B[39mupdate(kwds_defaults)\n\u001B[0;32m--> 948\u001B[0m \u001B[38;5;28;01mreturn\u001B[39;00m \u001B[43m_read\u001B[49m\u001B[43m(\u001B[49m\u001B[43mfilepath_or_buffer\u001B[49m\u001B[43m,\u001B[49m\u001B[43m \u001B[49m\u001B[43mkwds\u001B[49m\u001B[43m)\u001B[49m\n",
      "File \u001B[0;32m~/PycharmProjects/ScriptsNightingale/nightingale/lib/python3.11/site-packages/pandas/io/parsers/readers.py:611\u001B[0m, in \u001B[0;36m_read\u001B[0;34m(filepath_or_buffer, kwds)\u001B[0m\n\u001B[1;32m    608\u001B[0m _validate_names(kwds\u001B[38;5;241m.\u001B[39mget(\u001B[38;5;124m\"\u001B[39m\u001B[38;5;124mnames\u001B[39m\u001B[38;5;124m\"\u001B[39m, \u001B[38;5;28;01mNone\u001B[39;00m))\n\u001B[1;32m    610\u001B[0m \u001B[38;5;66;03m# Create the parser.\u001B[39;00m\n\u001B[0;32m--> 611\u001B[0m parser \u001B[38;5;241m=\u001B[39m \u001B[43mTextFileReader\u001B[49m\u001B[43m(\u001B[49m\u001B[43mfilepath_or_buffer\u001B[49m\u001B[43m,\u001B[49m\u001B[43m \u001B[49m\u001B[38;5;241;43m*\u001B[39;49m\u001B[38;5;241;43m*\u001B[39;49m\u001B[43mkwds\u001B[49m\u001B[43m)\u001B[49m\n\u001B[1;32m    613\u001B[0m \u001B[38;5;28;01mif\u001B[39;00m chunksize \u001B[38;5;129;01mor\u001B[39;00m iterator:\n\u001B[1;32m    614\u001B[0m     \u001B[38;5;28;01mreturn\u001B[39;00m parser\n",
      "File \u001B[0;32m~/PycharmProjects/ScriptsNightingale/nightingale/lib/python3.11/site-packages/pandas/io/parsers/readers.py:1448\u001B[0m, in \u001B[0;36mTextFileReader.__init__\u001B[0;34m(self, f, engine, **kwds)\u001B[0m\n\u001B[1;32m   1445\u001B[0m     \u001B[38;5;28mself\u001B[39m\u001B[38;5;241m.\u001B[39moptions[\u001B[38;5;124m\"\u001B[39m\u001B[38;5;124mhas_index_names\u001B[39m\u001B[38;5;124m\"\u001B[39m] \u001B[38;5;241m=\u001B[39m kwds[\u001B[38;5;124m\"\u001B[39m\u001B[38;5;124mhas_index_names\u001B[39m\u001B[38;5;124m\"\u001B[39m]\n\u001B[1;32m   1447\u001B[0m \u001B[38;5;28mself\u001B[39m\u001B[38;5;241m.\u001B[39mhandles: IOHandles \u001B[38;5;241m|\u001B[39m \u001B[38;5;28;01mNone\u001B[39;00m \u001B[38;5;241m=\u001B[39m \u001B[38;5;28;01mNone\u001B[39;00m\n\u001B[0;32m-> 1448\u001B[0m \u001B[38;5;28mself\u001B[39m\u001B[38;5;241m.\u001B[39m_engine \u001B[38;5;241m=\u001B[39m \u001B[38;5;28;43mself\u001B[39;49m\u001B[38;5;241;43m.\u001B[39;49m\u001B[43m_make_engine\u001B[49m\u001B[43m(\u001B[49m\u001B[43mf\u001B[49m\u001B[43m,\u001B[49m\u001B[43m \u001B[49m\u001B[38;5;28;43mself\u001B[39;49m\u001B[38;5;241;43m.\u001B[39;49m\u001B[43mengine\u001B[49m\u001B[43m)\u001B[49m\n",
      "File \u001B[0;32m~/PycharmProjects/ScriptsNightingale/nightingale/lib/python3.11/site-packages/pandas/io/parsers/readers.py:1705\u001B[0m, in \u001B[0;36mTextFileReader._make_engine\u001B[0;34m(self, f, engine)\u001B[0m\n\u001B[1;32m   1703\u001B[0m     \u001B[38;5;28;01mif\u001B[39;00m \u001B[38;5;124m\"\u001B[39m\u001B[38;5;124mb\u001B[39m\u001B[38;5;124m\"\u001B[39m \u001B[38;5;129;01mnot\u001B[39;00m \u001B[38;5;129;01min\u001B[39;00m mode:\n\u001B[1;32m   1704\u001B[0m         mode \u001B[38;5;241m+\u001B[39m\u001B[38;5;241m=\u001B[39m \u001B[38;5;124m\"\u001B[39m\u001B[38;5;124mb\u001B[39m\u001B[38;5;124m\"\u001B[39m\n\u001B[0;32m-> 1705\u001B[0m \u001B[38;5;28mself\u001B[39m\u001B[38;5;241m.\u001B[39mhandles \u001B[38;5;241m=\u001B[39m \u001B[43mget_handle\u001B[49m\u001B[43m(\u001B[49m\n\u001B[1;32m   1706\u001B[0m \u001B[43m    \u001B[49m\u001B[43mf\u001B[49m\u001B[43m,\u001B[49m\n\u001B[1;32m   1707\u001B[0m \u001B[43m    \u001B[49m\u001B[43mmode\u001B[49m\u001B[43m,\u001B[49m\n\u001B[1;32m   1708\u001B[0m \u001B[43m    \u001B[49m\u001B[43mencoding\u001B[49m\u001B[38;5;241;43m=\u001B[39;49m\u001B[38;5;28;43mself\u001B[39;49m\u001B[38;5;241;43m.\u001B[39;49m\u001B[43moptions\u001B[49m\u001B[38;5;241;43m.\u001B[39;49m\u001B[43mget\u001B[49m\u001B[43m(\u001B[49m\u001B[38;5;124;43m\"\u001B[39;49m\u001B[38;5;124;43mencoding\u001B[39;49m\u001B[38;5;124;43m\"\u001B[39;49m\u001B[43m,\u001B[49m\u001B[43m \u001B[49m\u001B[38;5;28;43;01mNone\u001B[39;49;00m\u001B[43m)\u001B[49m\u001B[43m,\u001B[49m\n\u001B[1;32m   1709\u001B[0m \u001B[43m    \u001B[49m\u001B[43mcompression\u001B[49m\u001B[38;5;241;43m=\u001B[39;49m\u001B[38;5;28;43mself\u001B[39;49m\u001B[38;5;241;43m.\u001B[39;49m\u001B[43moptions\u001B[49m\u001B[38;5;241;43m.\u001B[39;49m\u001B[43mget\u001B[49m\u001B[43m(\u001B[49m\u001B[38;5;124;43m\"\u001B[39;49m\u001B[38;5;124;43mcompression\u001B[39;49m\u001B[38;5;124;43m\"\u001B[39;49m\u001B[43m,\u001B[49m\u001B[43m \u001B[49m\u001B[38;5;28;43;01mNone\u001B[39;49;00m\u001B[43m)\u001B[49m\u001B[43m,\u001B[49m\n\u001B[1;32m   1710\u001B[0m \u001B[43m    \u001B[49m\u001B[43mmemory_map\u001B[49m\u001B[38;5;241;43m=\u001B[39;49m\u001B[38;5;28;43mself\u001B[39;49m\u001B[38;5;241;43m.\u001B[39;49m\u001B[43moptions\u001B[49m\u001B[38;5;241;43m.\u001B[39;49m\u001B[43mget\u001B[49m\u001B[43m(\u001B[49m\u001B[38;5;124;43m\"\u001B[39;49m\u001B[38;5;124;43mmemory_map\u001B[39;49m\u001B[38;5;124;43m\"\u001B[39;49m\u001B[43m,\u001B[49m\u001B[43m \u001B[49m\u001B[38;5;28;43;01mFalse\u001B[39;49;00m\u001B[43m)\u001B[49m\u001B[43m,\u001B[49m\n\u001B[1;32m   1711\u001B[0m \u001B[43m    \u001B[49m\u001B[43mis_text\u001B[49m\u001B[38;5;241;43m=\u001B[39;49m\u001B[43mis_text\u001B[49m\u001B[43m,\u001B[49m\n\u001B[1;32m   1712\u001B[0m \u001B[43m    \u001B[49m\u001B[43merrors\u001B[49m\u001B[38;5;241;43m=\u001B[39;49m\u001B[38;5;28;43mself\u001B[39;49m\u001B[38;5;241;43m.\u001B[39;49m\u001B[43moptions\u001B[49m\u001B[38;5;241;43m.\u001B[39;49m\u001B[43mget\u001B[49m\u001B[43m(\u001B[49m\u001B[38;5;124;43m\"\u001B[39;49m\u001B[38;5;124;43mencoding_errors\u001B[39;49m\u001B[38;5;124;43m\"\u001B[39;49m\u001B[43m,\u001B[49m\u001B[43m \u001B[49m\u001B[38;5;124;43m\"\u001B[39;49m\u001B[38;5;124;43mstrict\u001B[39;49m\u001B[38;5;124;43m\"\u001B[39;49m\u001B[43m)\u001B[49m\u001B[43m,\u001B[49m\n\u001B[1;32m   1713\u001B[0m \u001B[43m    \u001B[49m\u001B[43mstorage_options\u001B[49m\u001B[38;5;241;43m=\u001B[39;49m\u001B[38;5;28;43mself\u001B[39;49m\u001B[38;5;241;43m.\u001B[39;49m\u001B[43moptions\u001B[49m\u001B[38;5;241;43m.\u001B[39;49m\u001B[43mget\u001B[49m\u001B[43m(\u001B[49m\u001B[38;5;124;43m\"\u001B[39;49m\u001B[38;5;124;43mstorage_options\u001B[39;49m\u001B[38;5;124;43m\"\u001B[39;49m\u001B[43m,\u001B[49m\u001B[43m \u001B[49m\u001B[38;5;28;43;01mNone\u001B[39;49;00m\u001B[43m)\u001B[49m\u001B[43m,\u001B[49m\n\u001B[1;32m   1714\u001B[0m \u001B[43m\u001B[49m\u001B[43m)\u001B[49m\n\u001B[1;32m   1715\u001B[0m \u001B[38;5;28;01massert\u001B[39;00m \u001B[38;5;28mself\u001B[39m\u001B[38;5;241m.\u001B[39mhandles \u001B[38;5;129;01mis\u001B[39;00m \u001B[38;5;129;01mnot\u001B[39;00m \u001B[38;5;28;01mNone\u001B[39;00m\n\u001B[1;32m   1716\u001B[0m f \u001B[38;5;241m=\u001B[39m \u001B[38;5;28mself\u001B[39m\u001B[38;5;241m.\u001B[39mhandles\u001B[38;5;241m.\u001B[39mhandle\n",
      "File \u001B[0;32m~/PycharmProjects/ScriptsNightingale/nightingale/lib/python3.11/site-packages/pandas/io/common.py:863\u001B[0m, in \u001B[0;36mget_handle\u001B[0;34m(path_or_buf, mode, encoding, compression, memory_map, is_text, errors, storage_options)\u001B[0m\n\u001B[1;32m    858\u001B[0m \u001B[38;5;28;01melif\u001B[39;00m \u001B[38;5;28misinstance\u001B[39m(handle, \u001B[38;5;28mstr\u001B[39m):\n\u001B[1;32m    859\u001B[0m     \u001B[38;5;66;03m# Check whether the filename is to be opened in binary mode.\u001B[39;00m\n\u001B[1;32m    860\u001B[0m     \u001B[38;5;66;03m# Binary mode does not support 'encoding' and 'newline'.\u001B[39;00m\n\u001B[1;32m    861\u001B[0m     \u001B[38;5;28;01mif\u001B[39;00m ioargs\u001B[38;5;241m.\u001B[39mencoding \u001B[38;5;129;01mand\u001B[39;00m \u001B[38;5;124m\"\u001B[39m\u001B[38;5;124mb\u001B[39m\u001B[38;5;124m\"\u001B[39m \u001B[38;5;129;01mnot\u001B[39;00m \u001B[38;5;129;01min\u001B[39;00m ioargs\u001B[38;5;241m.\u001B[39mmode:\n\u001B[1;32m    862\u001B[0m         \u001B[38;5;66;03m# Encoding\u001B[39;00m\n\u001B[0;32m--> 863\u001B[0m         handle \u001B[38;5;241m=\u001B[39m \u001B[38;5;28;43mopen\u001B[39;49m\u001B[43m(\u001B[49m\n\u001B[1;32m    864\u001B[0m \u001B[43m            \u001B[49m\u001B[43mhandle\u001B[49m\u001B[43m,\u001B[49m\n\u001B[1;32m    865\u001B[0m \u001B[43m            \u001B[49m\u001B[43mioargs\u001B[49m\u001B[38;5;241;43m.\u001B[39;49m\u001B[43mmode\u001B[49m\u001B[43m,\u001B[49m\n\u001B[1;32m    866\u001B[0m \u001B[43m            \u001B[49m\u001B[43mencoding\u001B[49m\u001B[38;5;241;43m=\u001B[39;49m\u001B[43mioargs\u001B[49m\u001B[38;5;241;43m.\u001B[39;49m\u001B[43mencoding\u001B[49m\u001B[43m,\u001B[49m\n\u001B[1;32m    867\u001B[0m \u001B[43m            \u001B[49m\u001B[43merrors\u001B[49m\u001B[38;5;241;43m=\u001B[39;49m\u001B[43merrors\u001B[49m\u001B[43m,\u001B[49m\n\u001B[1;32m    868\u001B[0m \u001B[43m            \u001B[49m\u001B[43mnewline\u001B[49m\u001B[38;5;241;43m=\u001B[39;49m\u001B[38;5;124;43m\"\u001B[39;49m\u001B[38;5;124;43m\"\u001B[39;49m\u001B[43m,\u001B[49m\n\u001B[1;32m    869\u001B[0m \u001B[43m        \u001B[49m\u001B[43m)\u001B[49m\n\u001B[1;32m    870\u001B[0m     \u001B[38;5;28;01melse\u001B[39;00m:\n\u001B[1;32m    871\u001B[0m         \u001B[38;5;66;03m# Binary mode\u001B[39;00m\n\u001B[1;32m    872\u001B[0m         handle \u001B[38;5;241m=\u001B[39m \u001B[38;5;28mopen\u001B[39m(handle, ioargs\u001B[38;5;241m.\u001B[39mmode)\n",
      "\u001B[0;31mFileNotFoundError\u001B[0m: [Errno 2] No such file or directory: '/Users/abelcamachoguardian/Downloads/medical_test_data.csv'"
     ]
    }
   ],
   "source": [
    "medical_data = pd.read_csv('/Users/abelcamachoguardian/Downloads/medical_test_data.csv')"
   ],
   "metadata": {
    "collapsed": false,
    "ExecuteTime": {
     "end_time": "2024-01-24T16:05:35.996356Z",
     "start_time": "2024-01-24T16:05:35.907064Z"
    }
   },
   "id": "6367ea7506e794bd"
  },
  {
   "cell_type": "markdown",
   "source": [
    "<h1 style = \"text-align:center\">\n",
    "Load Models\n",
    "</h1>"
   ],
   "metadata": {
    "collapsed": false
   },
   "id": "306c9c912a949859"
  },
  {
   "cell_type": "code",
   "execution_count": 256,
   "outputs": [],
   "source": [
    "# Benchmark models\n",
    "# How good are out-of-the-box models'\n",
    "all_mpnet_base_sentence_transfomer = SentenceTransformer('all-mpnet-base-v2')\n",
    "paraphrase_minilm_sentence_transfomer = SentenceTransformer('paraphrase-MiniLM-L3-v2')"
   ],
   "metadata": {
    "collapsed": false,
    "ExecuteTime": {
     "end_time": "2024-01-24T17:58:48.194519Z",
     "start_time": "2024-01-24T17:58:48.016923Z"
    }
   },
   "id": "54435d41f27dee43"
  },
  {
   "cell_type": "markdown",
   "source": [
    "<h4 style = \"text-align:center\">\n",
    "Fine tune Models\n",
    "<h4>"
   ],
   "metadata": {
    "collapsed": false
   },
   "id": "41c6e004b60429a6"
  },
  {
   "cell_type": "code",
   "execution_count": 256,
   "outputs": [],
   "source": [],
   "metadata": {
    "collapsed": false,
    "ExecuteTime": {
     "end_time": "2024-01-24T17:58:49.058364Z",
     "start_time": "2024-01-24T17:58:49.051201Z"
    }
   },
   "id": "ded84c7d3ea2c58"
  },
  {
   "cell_type": "code",
   "execution_count": 267,
   "outputs": [],
   "source": [
    "num_epochs = [10,50,150]\n",
    "len_num_epochs =len(num_epochs)"
   ],
   "metadata": {
    "collapsed": false,
    "ExecuteTime": {
     "end_time": "2024-01-25T04:04:03.348832Z",
     "start_time": "2024-01-25T04:04:03.338743Z"
    }
   },
   "id": "cb85c9a605cac506"
  },
  {
   "cell_type": "code",
   "execution_count": 268,
   "outputs": [],
   "source": [
    "model_id = 'distilbert-base-uncased' #'bert-base-uncased'#'distilbert-base-uncased'\n",
    "\n",
    "distilber_base_uncase_file = []\n",
    "for i in num_epochs:\n",
    "    distilber_base_uncase_file.append('models/'+str(i)+'-'+model_id+'-fine_tune.pkl')\n",
    "\n",
    "distilber_base_uncase_augmented_file = []\n",
    "for i in num_epochs:\n",
    "    distilber_base_uncase_augmented_file.append('models/data_augmentation_'+str(i)+'-'+model_id+'-fine_tune.pkl')\n",
    "\n",
    "\n",
    "distilber_base_uncase_fine_tune = []\n",
    "\n",
    "for i in range(len_num_epochs):\n",
    "    distilber_base_uncase_fine_tune.append( pickle.load(open(distilber_base_uncase_file[i], 'rb')))\n",
    "\n",
    "for i in range(len_num_epochs):\n",
    "    distilber_base_uncase_fine_tune.append( pickle.load(open(distilber_base_uncase_augmented_file[i], 'rb')))"
   ],
   "metadata": {
    "collapsed": false,
    "ExecuteTime": {
     "end_time": "2024-01-25T04:04:04.005306Z",
     "start_time": "2024-01-25T04:04:03.584421Z"
    }
   },
   "id": "6317904cae101040"
  },
  {
   "cell_type": "code",
   "execution_count": 268,
   "outputs": [],
   "source": [],
   "metadata": {
    "collapsed": false,
    "ExecuteTime": {
     "end_time": "2024-01-25T04:04:04.008329Z",
     "start_time": "2024-01-25T04:04:04.006169Z"
    }
   },
   "id": "4cbaecd90200daa2"
  },
  {
   "cell_type": "code",
   "execution_count": 269,
   "outputs": [],
   "source": [
    "\n",
    "model_id = 'bert-base-uncased'\n",
    "bert_base_uncase_file = []\n",
    "for i in num_epochs:\n",
    "    bert_base_uncase_file.append('models/'+str(i)+'-'+model_id+'-fine_tune.pkl')\n",
    "\n",
    "bert_base_uncase_augmented_file = []\n",
    "for i in num_epochs:\n",
    "    bert_base_uncase_augmented_file.append('models/data_augmentation_'+str(i)+'-'+model_id+'-fine_tune.pkl')\n"
   ],
   "metadata": {
    "collapsed": false,
    "ExecuteTime": {
     "end_time": "2024-01-25T04:04:04.011239Z",
     "start_time": "2024-01-25T04:04:04.008282Z"
    }
   },
   "id": "fed29839159dad83"
  },
  {
   "cell_type": "code",
   "execution_count": 270,
   "outputs": [],
   "source": [
    "bert_base_uncase_fine_tune = []\n",
    "\n",
    "for i in range(len_num_epochs):\n",
    "    bert_base_uncase_fine_tune.append( pickle.load(open(bert_base_uncase_file[i], 'rb')))\n",
    "\n",
    "for i in range(len_num_epochs):\n",
    "    bert_base_uncase_fine_tune.append( pickle.load(open(bert_base_uncase_augmented_file[i], 'rb')))"
   ],
   "metadata": {
    "collapsed": false,
    "ExecuteTime": {
     "end_time": "2024-01-25T04:04:04.899463Z",
     "start_time": "2024-01-25T04:04:04.149863Z"
    }
   },
   "id": "d9662784077d6972"
  },
  {
   "cell_type": "code",
   "execution_count": 270,
   "outputs": [],
   "source": [],
   "metadata": {
    "collapsed": false,
    "ExecuteTime": {
     "end_time": "2024-01-25T04:04:04.903229Z",
     "start_time": "2024-01-25T04:04:04.899869Z"
    }
   },
   "id": "e8a308a27e882174"
  },
  {
   "cell_type": "markdown",
   "source": [
    "<h1 style = \"text-align:center\">\n",
    "Model Perfomance\n",
    "<h1>"
   ],
   "metadata": {
    "collapsed": false
   },
   "id": "b0150c943c67f3d2"
  },
  {
   "cell_type": "markdown",
   "source": [
    "<h1 style= \"text-align:center\">\n",
    "Peformance of fine tuning Models with data augmentation\n",
    "</h1>"
   ],
   "metadata": {
    "collapsed": false
   },
   "id": "a6932dfeaf313437"
  },
  {
   "cell_type": "markdown",
   "source": [
    "<h4 style = \"text-align:center\">\n",
    "Distilber Base Uncase\n",
    "</h4>"
   ],
   "metadata": {
    "collapsed": false
   },
   "id": "2dabec46b507e92e"
  },
  {
   "cell_type": "code",
   "execution_count": 271,
   "outputs": [
    {
     "name": "stdout",
     "output_type": "stream",
     "text": [
      "Distilbert base uncased\n",
      "Fine Tune model\n",
      "Number of  epochs: 10\n",
      "Accuracy: 87.3\n",
      "Number of  epochs: 50\n",
      "Accuracy: 87.5\n",
      "Number of  epochs: 150\n",
      "Accuracy: 87.3\n",
      "Augmented Data\n",
      "Number of  epochs: 10\n",
      "Accuracy: 87.3\n",
      "Number of  epochs: 50\n",
      "Accuracy: 88.4\n",
      "Number of  epochs: 150\n",
      "Accuracy: 88.8\n"
     ]
    }
   ],
   "source": [
    "l = 0\n",
    "print('Distilbert base uncased')\n",
    "print('Fine Tune model')\n",
    "for temp_distilber_base_uncase_fine_tune in distilber_base_uncase_fine_tune:\n",
    "    true_prediction, number_of_observations = accuracy(medical_data, temp_distilber_base_uncase_fine_tune)\n",
    "    if l == len_num_epochs:\n",
    "        print('---------------------------------------------')\n",
    "        print('Augmented Data')\n",
    "        l = 0\n",
    "    print('Number of  epochs: '+str(num_epochs[l]))\n",
    "    print('Accuracy: '+ str(np.round(100*true_prediction/number_of_observations,1)))\n",
    "    l = l + 1 "
   ],
   "metadata": {
    "collapsed": false,
    "ExecuteTime": {
     "end_time": "2024-01-25T04:05:35.554948Z",
     "start_time": "2024-01-25T04:04:05.346573Z"
    }
   },
   "id": "4dff2f6752b16e4f"
  },
  {
   "cell_type": "markdown",
   "source": [],
   "metadata": {
    "collapsed": false
   },
   "id": "d2fdcb7d4a39b614"
  },
  {
   "cell_type": "markdown",
   "source": [],
   "metadata": {
    "collapsed": false
   },
   "id": "a6219e3433d511c5"
  },
  {
   "cell_type": "markdown",
   "source": [
    " <h2 style = \"text-align:center\">\n",
    "Fine tune model using bert base uncase\n",
    "</h2>"
   ],
   "metadata": {
    "collapsed": false
   },
   "id": "e5434ae009bcda3"
  },
  {
   "cell_type": "code",
   "execution_count": 272,
   "outputs": [
    {
     "name": "stdout",
     "output_type": "stream",
     "text": [
      "Bert base uncased\n",
      "Fine Tune model\n",
      "Number of  epochs: 10\n",
      "Accuracy: 88.2\n",
      "Number of  epochs: 50\n",
      "Accuracy: 89.7\n",
      "Number of  epochs: 150\n",
      "Accuracy: 89.1\n",
      "Augmented Data\n",
      "Number of  epochs: 10\n",
      "Accuracy: 88.4\n",
      "Number of  epochs: 50\n",
      "Accuracy: 89.7\n",
      "Number of  epochs: 150\n",
      "Accuracy: 89.5\n"
     ]
    }
   ],
   "source": [
    "l = 0\n",
    "print('Bert base uncased')\n",
    "print('Fine Tune model')\n",
    "for temp_bert_base_uncase_fine_tune in bert_base_uncase_fine_tune:\n",
    "    true_prediction, number_of_observations = accuracy(medical_data, temp_bert_base_uncase_fine_tune)\n",
    "    if l == len_num_epochs:\n",
    "        print('---------------------------------------------')\n",
    "        print('Augmented Data')\n",
    "        l = 0\n",
    "    print('Number of  epochs: '+ str(num_epochs[l]))\n",
    "    print('Accuracy: '+ str(np.round(100*true_prediction/number_of_observations,1)))\n",
    "    l = l + 1"
   ],
   "metadata": {
    "collapsed": false,
    "ExecuteTime": {
     "end_time": "2024-01-25T04:08:39.711222Z",
     "start_time": "2024-01-25T04:05:35.554120Z"
    }
   },
   "id": "f31aac844692ba7e"
  },
  {
   "cell_type": "code",
   "execution_count": 272,
   "outputs": [],
   "source": [],
   "metadata": {
    "collapsed": false,
    "ExecuteTime": {
     "end_time": "2024-01-25T04:08:39.711632Z",
     "start_time": "2024-01-25T04:08:39.709311Z"
    }
   },
   "id": "956add6551f03bb6"
  },
  {
   "cell_type": "markdown",
   "source": [
    "<h1 style= \"text-align:center\">\n",
    "Peformance of  Benchmark Models\n",
    "</h1>"
   ],
   "metadata": {
    "collapsed": false
   },
   "id": "40a8d3e77e8999b9"
  },
  {
   "cell_type": "code",
   "execution_count": 273,
   "outputs": [
    {
     "name": "stdout",
     "output_type": "stream",
     "text": [
      "96.0\n"
     ]
    }
   ],
   "source": [
    "true_prediction, number_of_observations = accuracy(medical_data, all_mpnet_base_sentence_transfomer)\n",
    "print(np.round(100*true_prediction/number_of_observations))"
   ],
   "metadata": {
    "collapsed": false,
    "ExecuteTime": {
     "end_time": "2024-01-25T04:09:11.364806Z",
     "start_time": "2024-01-25T04:08:39.716944Z"
    }
   },
   "id": "228b6d6b96958399"
  },
  {
   "cell_type": "code",
   "execution_count": 274,
   "outputs": [
    {
     "name": "stdout",
     "output_type": "stream",
     "text": [
      "85.0\n"
     ]
    }
   ],
   "source": [
    "true_prediction, number_of_observations = accuracy(medical_data, paraphrase_minilm_sentence_transfomer)\n",
    "print(np.round(100*true_prediction/number_of_observations))"
   ],
   "metadata": {
    "collapsed": false,
    "ExecuteTime": {
     "end_time": "2024-01-25T04:09:14.924112Z",
     "start_time": "2024-01-25T04:09:11.363956Z"
    }
   },
   "id": "577dff6687471ecc"
  },
  {
   "cell_type": "code",
   "execution_count": null,
   "outputs": [],
   "source": [],
   "metadata": {
    "collapsed": false
   },
   "id": "389cfb4b6a03442c"
  }
 ],
 "metadata": {
  "kernelspec": {
   "display_name": "Python 3",
   "language": "python",
   "name": "python3"
  },
  "language_info": {
   "codemirror_mode": {
    "name": "ipython",
    "version": 2
   },
   "file_extension": ".py",
   "mimetype": "text/x-python",
   "name": "python",
   "nbconvert_exporter": "python",
   "pygments_lexer": "ipython2",
   "version": "2.7.6"
  }
 },
 "nbformat": 4,
 "nbformat_minor": 5
}
