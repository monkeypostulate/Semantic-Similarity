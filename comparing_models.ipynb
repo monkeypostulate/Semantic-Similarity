{
 "cells": [
  {
   "cell_type": "code",
   "execution_count": 1,
   "id": "initial_id",
   "metadata": {
    "collapsed": true,
    "ExecuteTime": {
     "end_time": "2024-01-20T16:42:47.145809Z",
     "start_time": "2024-01-20T16:42:45.770895Z"
    }
   },
   "outputs": [],
   "source": [
    "import pandas as pd\n",
    "import numpy as np\n",
    "import pickle\n",
    "from sentence_transformers import SentenceTransformer, models"
   ]
  },
  {
   "cell_type": "code",
   "execution_count": 2,
   "outputs": [],
   "source": [
    "from utils.metric import accuracy as accuracy"
   ],
   "metadata": {
    "collapsed": false,
    "ExecuteTime": {
     "end_time": "2024-01-20T16:42:47.149250Z",
     "start_time": "2024-01-20T16:42:47.146360Z"
    }
   },
   "id": "9db80b4ad64ae398"
  },
  {
   "cell_type": "markdown",
   "source": [
    "<h1 style = \"text-align:center\">\n",
    "Load data\n",
    "</h1>"
   ],
   "metadata": {
    "collapsed": false
   },
   "id": "781f671d693bd775"
  },
  {
   "cell_type": "code",
   "execution_count": 22,
   "outputs": [],
   "source": [
    "medical_data = pd.read_csv('/Users/abelcamachoguardian/Downloads/medical_test_data.csv')"
   ],
   "metadata": {
    "collapsed": false,
    "ExecuteTime": {
     "end_time": "2024-01-21T05:11:03.475052Z",
     "start_time": "2024-01-21T05:11:03.472390Z"
    }
   },
   "id": "6367ea7506e794bd"
  },
  {
   "cell_type": "markdown",
   "source": [
    "<h1 style = \"text-align:center\">\n",
    "Load Models\n",
    "</h1>"
   ],
   "metadata": {
    "collapsed": false
   },
   "id": "306c9c912a949859"
  },
  {
   "cell_type": "code",
   "execution_count": 24,
   "outputs": [],
   "source": [
    "# Benchmark models\n",
    "# How good are out-of-the-box models'\n",
    "all_mpnet_base_sentence_transfomer = SentenceTransformer('all-mpnet-base-v2')\n",
    "paraphrase_minilm_sentence_transfomer = SentenceTransformer('paraphrase-MiniLM-L3-v2')"
   ],
   "metadata": {
    "collapsed": false,
    "ExecuteTime": {
     "end_time": "2024-01-21T05:11:04.373555Z",
     "start_time": "2024-01-21T05:11:04.066662Z"
    }
   },
   "id": "54435d41f27dee43"
  },
  {
   "cell_type": "markdown",
   "source": [
    "<h4 style = \"text-align:center\">\n",
    "Fine tune Models\n",
    "<h4>"
   ],
   "metadata": {
    "collapsed": false
   },
   "id": "41c6e004b60429a6"
  },
  {
   "cell_type": "code",
   "execution_count": 38,
   "outputs": [],
   "source": [
    "model_id = 'distilbert-base-uncased' #'bert-base-uncased'#'distilbert-base-uncased'\n",
    "\n",
    "distilber_base_uncase_10_file = '/Users/abelcamachoguardian/Downloads/data_augmentation_'+str(10)+'-'+model_id+'-fine_tune.pkl'\n",
    "\n",
    "distilber_base_uncase_50_file = '/Users/abelcamachoguardian/Downloads/data_augmentation_'+str(50)+'-'+model_id+'-fine_tune.pkl'\n",
    "\n",
    "\n",
    "model_id = 'bert-base-uncased'\n",
    "\n",
    "\n",
    "bert_base_uncase_10_file = '/Users/abelcamachoguardian/Downloads/data_augmentation_'+str(10)+'-'+model_id+'-fine_tune.pkl'\n",
    "\n",
    "bert_base_uncase_50_file = '/Users/abelcamachoguardian/Downloads/data_augmentation_'+str(50)+'-'+model_id+'-fine_tune.pkl'\n",
    "#'bert-base-uncased'#'distilbert-base-uncased'\n"
   ],
   "metadata": {
    "collapsed": false,
    "ExecuteTime": {
     "end_time": "2024-01-21T06:13:31.661714Z",
     "start_time": "2024-01-21T06:13:31.657505Z"
    }
   },
   "id": "ded84c7d3ea2c58"
  },
  {
   "cell_type": "code",
   "execution_count": 35,
   "outputs": [],
   "source": [
    "distilber_base_uncase_fine_tune = []\n",
    "\n",
    "distilber_base_uncase_fine_tune.append( pickle.load(open(distilber_base_uncase_10_file, 'rb')) )\n",
    "\n",
    "distilber_base_uncase_fine_tune.append( pickle.load(open(distilber_base_uncase_50_file, 'rb')) )"
   ],
   "metadata": {
    "collapsed": false,
    "ExecuteTime": {
     "end_time": "2024-01-21T06:01:44.724258Z",
     "start_time": "2024-01-21T06:01:44.534449Z"
    }
   },
   "id": "6317904cae101040"
  },
  {
   "cell_type": "code",
   "execution_count": 40,
   "outputs": [],
   "source": [
    "bert_base_uncase_fine_tune = []\n",
    "\n",
    "bert_base_uncase_fine_tune.append( pickle.load(open(bert_base_uncase_10_file, 'rb')))"
   ],
   "metadata": {
    "collapsed": false,
    "ExecuteTime": {
     "end_time": "2024-01-21T06:13:52.161197Z",
     "start_time": "2024-01-21T06:13:51.940319Z"
    }
   },
   "id": "d9662784077d6972"
  },
  {
   "cell_type": "code",
   "execution_count": 40,
   "outputs": [],
   "source": [],
   "metadata": {
    "collapsed": false,
    "ExecuteTime": {
     "end_time": "2024-01-21T06:14:02.106148Z",
     "start_time": "2024-01-21T06:14:02.082637Z"
    }
   },
   "id": "e8a308a27e882174"
  },
  {
   "cell_type": "markdown",
   "source": [
    "<h1 style = \"text-align:center\">\n",
    "Model Perfomance\n",
    "<h1>"
   ],
   "metadata": {
    "collapsed": false
   },
   "id": "b0150c943c67f3d2"
  },
  {
   "cell_type": "markdown",
   "source": [
    "<h1 style= \"text-align:center\">\n",
    "Peformance of fine tuning Models with data augmentation\n",
    "</h1>"
   ],
   "metadata": {
    "collapsed": false
   },
   "id": "a6932dfeaf313437"
  },
  {
   "cell_type": "markdown",
   "source": [
    "<p>\n",
    "distilber_base_uncase\n",
    "</p>"
   ],
   "metadata": {
    "collapsed": false
   },
   "id": "2dabec46b507e92e"
  },
  {
   "cell_type": "code",
   "execution_count": 36,
   "outputs": [
    {
     "name": "stdout",
     "output_type": "stream",
     "text": [
      "88.0\n"
     ]
    }
   ],
   "source": [
    "true_prediction, number_of_observations = accuracy(medical_data, distilber_base_uncase_fine_tune[0])\n",
    "print(np.round(100*true_prediction/number_of_observations))"
   ],
   "metadata": {
    "collapsed": false,
    "ExecuteTime": {
     "end_time": "2024-01-21T06:04:36.665446Z",
     "start_time": "2024-01-21T06:04:07.589377Z"
    }
   },
   "id": "4dff2f6752b16e4f"
  },
  {
   "cell_type": "code",
   "execution_count": 37,
   "outputs": [
    {
     "name": "stdout",
     "output_type": "stream",
     "text": [
      "90.0\n"
     ]
    }
   ],
   "source": [
    "true_prediction, number_of_observations = accuracy(medical_data, distilber_base_uncase_fine_tune[1])\n",
    "print(np.round(100*true_prediction/number_of_observations))"
   ],
   "metadata": {
    "collapsed": false,
    "ExecuteTime": {
     "end_time": "2024-01-21T06:05:07.063693Z",
     "start_time": "2024-01-21T06:04:36.663931Z"
    }
   },
   "id": "cb0b68d9ca883422"
  },
  {
   "cell_type": "code",
   "execution_count": null,
   "outputs": [],
   "source": [
    "# Fine tune model using bert base uncase"
   ],
   "metadata": {
    "collapsed": false
   },
   "id": "da536088965dc2a5"
  },
  {
   "cell_type": "code",
   "execution_count": 41,
   "outputs": [
    {
     "name": "stdout",
     "output_type": "stream",
     "text": [
      "91.0\n"
     ]
    }
   ],
   "source": [
    "true_prediction, number_of_observations = accuracy(medical_data, bert_base_uncase_fine_tune[0])\n",
    "print(np.round(100*true_prediction/number_of_observations))"
   ],
   "metadata": {
    "collapsed": false,
    "ExecuteTime": {
     "end_time": "2024-01-21T06:15:01.195142Z",
     "start_time": "2024-01-21T06:14:14.336914Z"
    }
   },
   "id": "f31aac844692ba7e"
  },
  {
   "cell_type": "markdown",
   "source": [
    "<h1 style= \"text-align:center\">\n",
    "Peformance of  Benchmark Models\n",
    "</h1>"
   ],
   "metadata": {
    "collapsed": false
   },
   "id": "40a8d3e77e8999b9"
  },
  {
   "cell_type": "code",
   "execution_count": 16,
   "outputs": [
    {
     "name": "stdout",
     "output_type": "stream",
     "text": [
      "96.0\n"
     ]
    }
   ],
   "source": [
    "true_prediction, number_of_observations = accuracy(medical_data, all_mpnet_base_sentence_transfomer)\n",
    "print(np.round(100*true_prediction/number_of_observations))"
   ],
   "metadata": {
    "collapsed": false,
    "ExecuteTime": {
     "end_time": "2024-01-20T17:45:59.162423Z",
     "start_time": "2024-01-20T17:45:05.836048Z"
    }
   },
   "id": "228b6d6b96958399"
  },
  {
   "cell_type": "code",
   "execution_count": 17,
   "outputs": [
    {
     "name": "stdout",
     "output_type": "stream",
     "text": [
      "85.0\n"
     ]
    }
   ],
   "source": [
    "true_prediction, number_of_observations = accuracy(medical_data, paraphrase_minilm_sentence_transfomer)\n",
    "print(np.round(100*true_prediction/number_of_observations))"
   ],
   "metadata": {
    "collapsed": false,
    "ExecuteTime": {
     "end_time": "2024-01-20T17:46:05.030521Z",
     "start_time": "2024-01-20T17:45:59.161136Z"
    }
   },
   "id": "577dff6687471ecc"
  }
 ],
 "metadata": {
  "kernelspec": {
   "display_name": "Python 3",
   "language": "python",
   "name": "python3"
  },
  "language_info": {
   "codemirror_mode": {
    "name": "ipython",
    "version": 2
   },
   "file_extension": ".py",
   "mimetype": "text/x-python",
   "name": "python",
   "nbconvert_exporter": "python",
   "pygments_lexer": "ipython2",
   "version": "2.7.6"
  }
 },
 "nbformat": 4,
 "nbformat_minor": 5
}
